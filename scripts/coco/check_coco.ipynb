{
 "cells": [
  {
   "cell_type": "code",
   "execution_count": 1,
   "metadata": {},
   "outputs": [],
   "source": [
    "dataset_name = \"controlled-conditions\"\n",
    "coco_json_path = \"../../annotations/\" + dataset_name + \"/info/\" + dataset_name + \"_all.json\"\n",
    "images_dir = \"/mnt/data0/martez/\" + dataset_name + \"/dataset/images/\""
   ]
  },
  {
   "cell_type": "code",
   "execution_count": 2,
   "metadata": {},
   "outputs": [],
   "source": [
    "import json \n",
    "def validate_coco_annotations(coco_json_path):\n",
    "    with open(coco_json_path) as f:\n",
    "        data = json.load(f)\n",
    "\n",
    "    print(\"🔎 Starting annotation validation...\")\n",
    "\n",
    "    bad_annotations = 0\n",
    "    for ann in data.get(\"annotations\", []):\n",
    "        bbox = ann.get(\"bbox\", None)\n",
    "        area = ann.get(\"area\", None)\n",
    "\n",
    "        if bbox is None or len(bbox) != 4:\n",
    "            print(f\"❌ Bad bbox: {bbox}\")\n",
    "            bad_annotations += 1\n",
    "            continue\n",
    "\n",
    "        x, y, w, h = bbox\n",
    "        if not all(isinstance(val, (int, float)) for val in [x, y, w, h]):\n",
    "            print(f\"❌ Non-numeric bbox: {bbox}\")\n",
    "            bad_annotations += 1\n",
    "            continue\n",
    "        if w <= 0 or h <= 0:\n",
    "            print(f\"❌ Zero or negative width/height in bbox: {bbox}\")\n",
    "            bad_annotations += 1\n",
    "            continue\n",
    "\n",
    "        if area is not None and (area <= 0 or not isinstance(area, (int, float))):\n",
    "            print(f\"⚠️ Suspicious area: {area}\")\n",
    "            bad_annotations += 1\n",
    "\n",
    "        if \"category_id\" not in ann:\n",
    "            print(f\"❌ Missing category_id in annotation: {ann}\")\n",
    "            bad_annotations += 1\n",
    "\n",
    "    print(f\"\\n✅ Validation complete. Found {bad_annotations} problematic annotations.\")"
   ]
  },
  {
   "cell_type": "code",
   "execution_count": 4,
   "metadata": {},
   "outputs": [
    {
     "name": "stdout",
     "output_type": "stream",
     "text": [
      "🔎 Starting annotation validation...\n",
      "\n",
      "✅ Validation complete. Found 0 problematic annotations.\n",
      "🔎 Starting annotation validation...\n",
      "\n",
      "✅ Validation complete. Found 0 problematic annotations.\n"
     ]
    }
   ],
   "source": [
    "#validate_coco_annotations(coco_json_path)\n",
    "validate_coco_annotations(\"../../annotations/osr-fields/gh/GH_OSR.json\")\n",
    "validate_coco_annotations(\"../../annotations/osr-fields/lg/LG_OSR.json\")"
   ]
  },
  {
   "cell_type": "code",
   "execution_count": null,
   "metadata": {},
   "outputs": [
    {
     "name": "stdout",
     "output_type": "stream",
     "text": [
      "loading annotations into memory...\n",
      "Done (t=0.01s)\n",
      "creating index...\n",
      "index created!\n",
      "COCO dataset loaded successfully!\n",
      "Number of images: 6113\n",
      "Number of annotations: 3955\n",
      "Number of categories: 6\n",
      "Categories: ['aranae', 'carabidae', 'diptera-hymenoptera', 'isopoda', 'myriapoda', 'staphylinidae']\n"
     ]
    }
   ],
   "source": [
    "from pycocotools.coco import COCO\n",
    "\n",
    "# Load the COCO dataset\n",
    "try:\n",
    "    coco = COCO(\"../../annotations/osr-fields/gh/GH_OSR.json\")\n",
    "    print(\"COCO dataset loaded successfully!\")\n",
    "except Exception as e:\n",
    "    print(\"Error loading COCO dataset:\", e)\n",
    "\n",
    "# Get basic dataset stats\n",
    "print(\"Number of images:\", len(coco.imgs))\n",
    "print(\"Number of annotations:\", len(coco.anns))\n",
    "print(\"Number of categories:\", len(coco.cats))\n",
    "\n",
    "# List all category names\n",
    "categories = coco.loadCats(coco.getCatIds())\n",
    "category_names = [cat[\"name\"] for cat in categories]\n",
    "print(\"Categories:\", category_names)"
   ]
  },
  {
   "cell_type": "code",
   "execution_count": 7,
   "metadata": {},
   "outputs": [
    {
     "name": "stdout",
     "output_type": "stream",
     "text": [
      "Total images: 6113\n",
      "Images with annotations: 3596\n",
      "Images with NO annotations: 2517\n"
     ]
    }
   ],
   "source": [
    "all_image_ids = set(coco.imgs.keys())\n",
    "annotated_image_ids = set([ann[\"image_id\"] for ann in coco.anns.values()])\n",
    "unannotated_image_ids = all_image_ids - annotated_image_ids\n",
    "\n",
    "print(f\"Total images: {len(all_image_ids)}\")\n",
    "print(f\"Images with annotations: {len(annotated_image_ids)}\")\n",
    "print(f\"Images with NO annotations: {len(unannotated_image_ids)}\")"
   ]
  },
  {
   "cell_type": "code",
   "execution_count": 8,
   "metadata": {},
   "outputs": [
    {
     "name": "stdout",
     "output_type": "stream",
     "text": [
      "Invalid bounding boxes found: 0\n"
     ]
    }
   ],
   "source": [
    "invalid_bboxes = []\n",
    "for ann in coco.anns.values():\n",
    "    x, y, w, h = ann[\"bbox\"]\n",
    "    if w <= 0 or h <= 0:\n",
    "        invalid_bboxes.append(ann)\n",
    "\n",
    "print(f\"Invalid bounding boxes found: {len(invalid_bboxes)}\")\n",
    "if invalid_bboxes:\n",
    "    print(\"Example of an invalid bbox:\", invalid_bboxes[0])"
   ]
  },
  {
   "cell_type": "code",
   "execution_count": 9,
   "metadata": {},
   "outputs": [
    {
     "name": "stdout",
     "output_type": "stream",
     "text": [
      "Duplicate annotations found: 0\n"
     ]
    }
   ],
   "source": [
    "from collections import defaultdict\n",
    "\n",
    "dup_check = defaultdict(int)\n",
    "duplicates = []\n",
    "for ann in coco.anns.values():\n",
    "    key = (ann[\"image_id\"], ann[\"category_id\"], tuple(ann[\"bbox\"]))\n",
    "    dup_check[key] += 1\n",
    "    if dup_check[key] > 1:\n",
    "        duplicates.append(ann)\n",
    "\n",
    "print(f\"Duplicate annotations found: {len(duplicates)}\")\n",
    "if duplicates:\n",
    "    print(\"Example of a duplicate annotation:\", duplicates[0])"
   ]
  },
  {
   "cell_type": "code",
   "execution_count": 39,
   "metadata": {},
   "outputs": [
    {
     "ename": "KeyboardInterrupt",
     "evalue": "",
     "output_type": "error",
     "traceback": [
      "\u001b[0;31m---------------------------------------------------------------------------\u001b[0m",
      "\u001b[0;31mKeyboardInterrupt\u001b[0m                         Traceback (most recent call last)",
      "Cell \u001b[0;32mIn[39], line 5\u001b[0m\n\u001b[1;32m      3\u001b[0m img_info \u001b[38;5;241m=\u001b[39m coco\u001b[38;5;241m.\u001b[39mimgs[img_id]\n\u001b[1;32m      4\u001b[0m img_path \u001b[38;5;241m=\u001b[39m \u001b[38;5;124mf\u001b[39m\u001b[38;5;124m\"\u001b[39m\u001b[38;5;132;01m{\u001b[39;00mimages_dir\u001b[38;5;132;01m}\u001b[39;00m\u001b[38;5;132;01m{\u001b[39;00mimg_info[\u001b[38;5;124m'\u001b[39m\u001b[38;5;124mfile_name\u001b[39m\u001b[38;5;124m'\u001b[39m]\u001b[38;5;132;01m}\u001b[39;00m\u001b[38;5;124m\"\u001b[39m\n\u001b[0;32m----> 5\u001b[0m img \u001b[38;5;241m=\u001b[39m \u001b[43mcv2\u001b[49m\u001b[38;5;241;43m.\u001b[39;49m\u001b[43mimread\u001b[49m\u001b[43m(\u001b[49m\u001b[43mimg_path\u001b[49m\u001b[43m)\u001b[49m\n\u001b[1;32m      6\u001b[0m \u001b[38;5;28;01mif\u001b[39;00m img \u001b[38;5;129;01mis\u001b[39;00m \u001b[38;5;28;01mNone\u001b[39;00m:\n\u001b[1;32m      7\u001b[0m     \u001b[38;5;28mprint\u001b[39m(\u001b[38;5;124mf\u001b[39m\u001b[38;5;124m\"\u001b[39m\u001b[38;5;124mCorrupt or missing image: \u001b[39m\u001b[38;5;132;01m{\u001b[39;00mimg_path\u001b[38;5;132;01m}\u001b[39;00m\u001b[38;5;124m\"\u001b[39m)\n",
      "\u001b[0;31mKeyboardInterrupt\u001b[0m: "
     ]
    }
   ],
   "source": [
    "import cv2\n",
    "for img_id in coco.imgs:\n",
    "    img_info = coco.imgs[img_id]\n",
    "    img_path = f\"{images_dir}{img_info['file_name']}\"\n",
    "    img = cv2.imread(img_path)\n",
    "    if img is None:\n",
    "        print(f\"Corrupt or missing image: {img_path}\")\n",
    "    elif img.shape[:2] == (0, 0):\n",
    "        print(f\"Invalid image dimensions: {img_path} -> {img.shape}\")"
   ]
  }
 ],
 "metadata": {
  "kernelspec": {
   "display_name": "Python 3",
   "language": "python",
   "name": "python3"
  },
  "language_info": {
   "codemirror_mode": {
    "name": "ipython",
    "version": 3
   },
   "file_extension": ".py",
   "mimetype": "text/x-python",
   "name": "python",
   "nbconvert_exporter": "python",
   "pygments_lexer": "ipython3",
   "version": "3.12.9"
  }
 },
 "nbformat": 4,
 "nbformat_minor": 2
}
